{
 "cells": [
  {
   "cell_type": "code",
   "execution_count": 1,
   "metadata": {
    "collapsed": true
   },
   "outputs": [],
   "source": [
    "import time\n",
    "import json\n",
    "import requests\n",
    "import pandas as pd"
   ]
  },
  {
   "cell_type": "code",
   "execution_count": 2,
   "outputs": [],
   "source": [
    "class OpenDotaAPI():\n",
    "\n",
    "    def __init__(self, verbose = False):\n",
    "        self.verbose = verbose\n",
    "\n",
    "    def _call(self, url, parameters, tries= 2):\n",
    "        for i in range(tries):\n",
    "            try:\n",
    "                if self.verbose: print(\"Sending API request... \", end=\"\", flush=True)\n",
    "                resp = requests.get(url, params= parameters, timeout= 20)\n",
    "                load_resp = json.loads(resp.text)\n",
    "                if self.verbose: print(\"done\")\n",
    "                return load_resp\n",
    "            except Exception as e:\n",
    "                print(\"failed. Trying again in 5s\")\n",
    "                print(e)\n",
    "                time.sleep(5)\n",
    "        else:\n",
    "            ValueError(\"Unable to connect to OpenDota API\")\n",
    "\n",
    "    # Return a list of 100 recent matches; save smaller match_id\n",
    "    def get_recent_matches(self, last_match_id):\n",
    "        params = dict()\n",
    "        params['less_than_match_id'] = last_match_id\n",
    "        url = \"https://api.opendota.com/api/proMatches\"\n",
    "        matches = self._call(url, params)\n",
    "        return matches\n",
    "\n",
    "    # Return a dictionary with match information\n",
    "    def get_match_info(self, match_id):\n",
    "        url = \"https://api.opendota.com/api/matches/\" + str(match_id)\n",
    "        return self._call(url, None)\n",
    "\n",
    "    # Return a list with player's heroes history\n",
    "    def get_player_heroes_history(self, account_id):\n",
    "        url = \"https://api.opendota.com/api/players/{}/heroes\".format(account_id)\n",
    "        return self._call(url, None)\n",
    "\n",
    "    # Return a list with player's heroes ranking history\n",
    "    def get_player_heroes_ranking(self, account_id):\n",
    "        url = \"https://api.opendota.com/api/players/{}/rankings\".format(account_id)\n",
    "        return self._call(url, None)"
   ],
   "metadata": {
    "collapsed": false
   }
  },
  {
   "cell_type": "code",
   "execution_count": 3,
   "outputs": [],
   "source": [
    "class DataPreprocessing():\n",
    "    def __init__(self):\n",
    "        # Initialize tables as empty dataframes\n",
    "        self.matches = pd.DataFrame()\n",
    "\n",
    "    def get_match(self, match):\n",
    "        \"\"\" Get general information from the match and append to self.matches. \"\"\"\n",
    "\n",
    "        fields = ['match_id', 'draft_timings', 'radiant_win', 'radiant_team', 'dire_team']\n",
    "\n",
    "        proc_match = {key: [match[key]] for key in fields}\n",
    "        self.matches = self.matches.append(pd.DataFrame(proc_match), ignore_index=True)\n",
    "\n",
    "    def get_player_heroes(self, hero):\n",
    "        \"\"\" Get general information from the match and append to self.matches. \"\"\"\n",
    "\n",
    "        fields = ['hero_id', 'games', 'win','games','win','with_games','with_win','against_games','against_win']\n",
    "\n",
    "        proc_match = {key: [hero[key]] for key in fields}\n",
    "        self.matches = self.matches.append(pd.DataFrame(proc_match), ignore_index=True)\n",
    "\n",
    "    def get_player_rankings(self, hero):\n",
    "        \"\"\" Get general information from the match and append to self.matches. \"\"\"\n",
    "\n",
    "        fields = ['hero_id', 'percent_rank']\n",
    "\n",
    "        proc_match = {key: [hero[key]] for key in fields}\n",
    "        self.matches = self.matches.append(pd.DataFrame(proc_match), ignore_index=True)\n",
    "\n",
    "    def get_all_current_match_tables(self, match_details):\n",
    "        \"\"\" Get all tables from a current match, except the previous matches. \"\"\"\n",
    "        self.get_match(match_details)"
   ],
   "metadata": {
    "collapsed": false
   }
  },
  {
   "cell_type": "markdown",
   "source": [
    "Para obtener todas la información de las partidas"
   ],
   "metadata": {
    "collapsed": false
   }
  },
  {
   "cell_type": "code",
   "execution_count": null,
   "outputs": [],
   "source": [
    "#Cambiar ID Por el Ultimo Obtenido en el Dataset\n",
    "def main_matches(sleep_time = 2, min_match_id = 6616234032):\n",
    "    api = OpenDotaAPI(verbose= True)\n",
    "    data = DataPreprocessing()\n",
    "    recent_matches = api.get_recent_matches(min_match_id)\n",
    "    for recent_match in recent_matches:\n",
    "        time.sleep(sleep_time)\n",
    "        match_details = api.get_match_info(recent_match['match_id'])\n",
    "        data.get_all_current_match_tables(match_details)\n",
    "    return data"
   ],
   "metadata": {
    "collapsed": false
   }
  },
  {
   "cell_type": "markdown",
   "source": [
    "Para obtener la información del usuario. Player Heroes"
   ],
   "metadata": {
    "collapsed": false
   }
  },
  {
   "cell_type": "code",
   "execution_count": 4,
   "outputs": [],
   "source": [
    "def main_player(sleep_time = 2, account_id = 173869537):\n",
    "    api = OpenDotaAPI(verbose= True)\n",
    "    data = DataPreprocessing()\n",
    "    heroes_history = api.get_player_heroes_history(account_id)\n",
    "    for heroe in heroes_history:\n",
    "        time.sleep(sleep_time)\n",
    "        data.get_player_heroes(heroe)\n",
    "    return data"
   ],
   "metadata": {
    "collapsed": false
   }
  },
  {
   "cell_type": "markdown",
   "source": [
    "Creamos el dataset"
   ],
   "metadata": {
    "collapsed": false
   }
  },
  {
   "cell_type": "code",
   "execution_count": 7,
   "outputs": [
    {
     "name": "stdout",
     "output_type": "stream",
     "text": [
      "Sending API request... done\n"
     ]
    },
    {
     "name": "stderr",
     "output_type": "stream",
     "text": [
      "C:\\Users\\Isaias Olmos\\AppData\\Local\\Temp\\ipykernel_25272\\4180788340.py:20: FutureWarning: The frame.append method is deprecated and will be removed from pandas in a future version. Use pandas.concat instead.\n",
      "  self.matches = self.matches.append(pd.DataFrame(proc_match), ignore_index=True)\n"
     ]
    },
    {
     "name": "stdout",
     "output_type": "stream",
     "text": [
      "    hero_id  games  win  with_games  with_win  against_games  against_win\n",
      "0        69    116   52          48        29             64           35\n",
      "1        67     80   56          90        54             83           45\n",
      "2       102     77   51          65        35             78           36\n",
      "3        51     72   38          56        25             75           43\n",
      "4        71     70   41         151        89            196           93\n",
      "..      ...    ...  ...         ...       ...            ...          ...\n",
      "118     123      0    0          17         9             15            8\n",
      "119     126      0    0          13         6              5            2\n",
      "120     128      0    0          16         7              7            5\n",
      "121     136      0    0          13         5             16            7\n",
      "122     137      0    0           5         2              8            3\n",
      "\n",
      "[123 rows x 7 columns]\n"
     ]
    }
   ],
   "source": [
    "df = main_player()\n",
    "df = df.matches\n",
    "df.to_csv(\"Player_heroes.csv\", index=False)"
   ],
   "metadata": {
    "collapsed": false
   }
  },
  {
   "cell_type": "markdown",
   "source": [
    "Para crear en secuencia muchos dataset de 100 partidas cada uno"
   ],
   "metadata": {
    "collapsed": false
   }
  },
  {
   "cell_type": "code",
   "execution_count": null,
   "outputs": [],
   "source": [
    "ultimo_id = 6616234032\n",
    "contador = 0\n",
    "\n",
    "for _ in range(10):\n",
    "    df = main_matches(min_match_id = ultimo_id)\n",
    "    ultimo_id = df['match_id'].min()\n",
    "    df.to_csv(\"Dataset_train_{}.csv\".format(contador), index=False)\n",
    "    contador += 1"
   ],
   "metadata": {
    "collapsed": false
   }
  },
  {
   "cell_type": "markdown",
   "source": [
    "Modificar el Dataset de partidas para tener valores 1 y 0 para cada heroe"
   ],
   "metadata": {
    "collapsed": false
   }
  },
  {
   "cell_type": "code",
   "execution_count": null,
   "outputs": [],
   "source": [
    "ori = df\n",
    "df = ori[[\"radiant_win\",\"radiant_team\",\"dire_team\"]]\n",
    "\n",
    "x = df[\"radiant_team\"].str.split(r',', expand=True).stack().reset_index(level=1, drop=True).to_frame('radiant_team')\n",
    "x = pd.get_dummies(x, prefix='', prefix_sep=\"\", columns=['radiant_team']).groupby(level=0).sum().astype(\"int\")\n",
    "x.columns = x.columns.map(int)\n",
    "x = x.reindex(sorted(x.columns), axis=1)\n",
    "\n",
    "y = df[\"dire_team\"].str.split(r',', expand=True).stack().reset_index(level=1, drop=True).to_frame('dire_team')\n",
    "y = pd.get_dummies(y, prefix='', prefix_sep=\"\", columns=['dire_team']).groupby(level=0).sum().astype(\"int\")\n",
    "y.columns = y.columns.map(int)\n",
    "y = y.reindex(sorted(y.columns), axis=1)\n",
    "\n",
    "hero = x-y\n",
    "hero[\"radiant_win\"] = df[\"radiant_win\"].astype(\"int\")"
   ],
   "metadata": {
    "collapsed": false
   }
  },
  {
   "cell_type": "markdown",
   "source": [
    "Preprocess Player Data. Removing Heroes with Less Than 5 Games Played. Inner Join with Player Heroes Rankings."
   ],
   "metadata": {
    "collapsed": false
   }
  },
  {
   "cell_type": "code",
   "execution_count": 10,
   "outputs": [],
   "source": [
    "heroes = pd.read_csv(\"Player_heroes.csv\")\n",
    "heroes = heroes.drop(heroes[heroes.games < 6].index)"
   ],
   "metadata": {
    "collapsed": false
   }
  }
 ],
 "metadata": {
  "kernelspec": {
   "display_name": "Python 3",
   "language": "python",
   "name": "python3"
  },
  "language_info": {
   "codemirror_mode": {
    "name": "ipython",
    "version": 2
   },
   "file_extension": ".py",
   "mimetype": "text/x-python",
   "name": "python",
   "nbconvert_exporter": "python",
   "pygments_lexer": "ipython2",
   "version": "2.7.6"
  }
 },
 "nbformat": 4,
 "nbformat_minor": 0
}
