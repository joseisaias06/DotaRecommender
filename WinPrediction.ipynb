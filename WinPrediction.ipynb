{
 "cells": [
  {
   "cell_type": "markdown",
   "source": [
    "Importando los módulos necesarios"
   ],
   "metadata": {
    "collapsed": false
   }
  },
  {
   "cell_type": "code",
   "execution_count": 1,
   "metadata": {
    "collapsed": true
   },
   "outputs": [],
   "source": [
    "import pandas as pd\n",
    "import tensorflow as tf\n",
    "from sklearn.ensemble import RandomForestClassifier\n",
    "import matplotlib.pyplot as plt\n",
    "from sklearn import metrics\n",
    "import joblib\n",
    "from sklearn.feature_selection import RFECV\n",
    "from sklearn.experimental import enable_halving_search_cv\n",
    "from sklearn.model_selection import train_test_split, StratifiedKFold, GridSearchCV, RandomizedSearchCV, \\\n",
    "    HalvingGridSearchCV\n",
    "from sklearn.metrics import classification_report\n",
    "import lightgbm\n",
    "import numpy as np"
   ]
  },
  {
   "cell_type": "markdown",
   "source": [
    "Cargando el dataset y generando los conjuntos de entrenamiento y prueba"
   ],
   "metadata": {
    "collapsed": false
   }
  },
  {
   "cell_type": "code",
   "execution_count": 3,
   "outputs": [],
   "source": [
    "df = pd.read_csv(\"Dataset_ListoParaModelo.csv\")\n",
    "df.dropna(inplace=True)\n",
    "\n",
    "X = df[df.columns.tolist()[:-1]]\n",
    "y = df[df.columns.tolist()[-1]]\n",
    "\n",
    "X_train, X_test, y_train, y_test = train_test_split(X, y, test_size=0.2, random_state=42)"
   ],
   "metadata": {
    "collapsed": false
   }
  },
  {
   "cell_type": "markdown",
   "source": [
    "Creando el modelo de Red Neuronal"
   ],
   "metadata": {
    "collapsed": false
   }
  },
  {
   "cell_type": "code",
   "execution_count": 23,
   "outputs": [
    {
     "name": "stdout",
     "output_type": "stream",
     "text": [
      "Model: \"sequential_3\"\n",
      "_________________________________________________________________\n",
      " Layer (type)                Output Shape              Param #   \n",
      "=================================================================\n",
      " dense_9 (Dense)             (None, 64)                7936      \n",
      "                                                                 \n",
      " dropout_3 (Dropout)         (None, 64)                0         \n",
      "                                                                 \n",
      " dense_10 (Dense)            (None, 32)                2080      \n",
      "                                                                 \n",
      " dense_11 (Dense)            (None, 1)                 33        \n",
      "                                                                 \n",
      "=================================================================\n",
      "Total params: 10,049\n",
      "Trainable params: 10,049\n",
      "Non-trainable params: 0\n",
      "_________________________________________________________________\n",
      "Epoch 1/50\n",
      "442/442 [==============================] - 1s 2ms/step - loss: 0.7006 - accuracy: 0.5118\n",
      "Epoch 2/50\n",
      "442/442 [==============================] - 1s 2ms/step - loss: 0.6871 - accuracy: 0.5437\n",
      "Epoch 3/50\n",
      "442/442 [==============================] - 1s 2ms/step - loss: 0.6808 - accuracy: 0.5628\n",
      "Epoch 4/50\n",
      "442/442 [==============================] - 1s 2ms/step - loss: 0.6709 - accuracy: 0.5888\n",
      "Epoch 5/50\n",
      "442/442 [==============================] - 1s 2ms/step - loss: 0.6656 - accuracy: 0.5963\n",
      "Epoch 6/50\n",
      "442/442 [==============================] - 1s 2ms/step - loss: 0.6604 - accuracy: 0.5997\n",
      "Epoch 7/50\n",
      "442/442 [==============================] - 1s 2ms/step - loss: 0.6566 - accuracy: 0.6058\n",
      "Epoch 8/50\n",
      "442/442 [==============================] - 1s 2ms/step - loss: 0.6517 - accuracy: 0.6152\n",
      "Epoch 9/50\n",
      "442/442 [==============================] - 1s 2ms/step - loss: 0.6477 - accuracy: 0.6181\n",
      "Epoch 10/50\n",
      "442/442 [==============================] - 1s 2ms/step - loss: 0.6421 - accuracy: 0.6264\n",
      "Epoch 11/50\n",
      "442/442 [==============================] - 1s 2ms/step - loss: 0.6388 - accuracy: 0.6335\n",
      "Epoch 12/50\n",
      "442/442 [==============================] - 1s 2ms/step - loss: 0.6318 - accuracy: 0.6432\n",
      "Epoch 13/50\n",
      "442/442 [==============================] - 1s 2ms/step - loss: 0.6262 - accuracy: 0.6460\n",
      "Epoch 14/50\n",
      "442/442 [==============================] - 1s 2ms/step - loss: 0.6216 - accuracy: 0.6521\n",
      "Epoch 15/50\n",
      "442/442 [==============================] - 1s 2ms/step - loss: 0.6199 - accuracy: 0.6495\n",
      "Epoch 16/50\n",
      "442/442 [==============================] - 1s 2ms/step - loss: 0.6119 - accuracy: 0.6626\n",
      "Epoch 17/50\n",
      "442/442 [==============================] - 1s 2ms/step - loss: 0.6091 - accuracy: 0.6671\n",
      "Epoch 18/50\n",
      "442/442 [==============================] - 1s 2ms/step - loss: 0.6034 - accuracy: 0.6711\n",
      "Epoch 19/50\n",
      "442/442 [==============================] - 1s 2ms/step - loss: 0.5971 - accuracy: 0.6723\n",
      "Epoch 20/50\n",
      "442/442 [==============================] - 1s 2ms/step - loss: 0.5967 - accuracy: 0.6812\n",
      "Epoch 21/50\n",
      "442/442 [==============================] - 1s 2ms/step - loss: 0.5928 - accuracy: 0.6789\n",
      "Epoch 22/50\n",
      "442/442 [==============================] - 1s 2ms/step - loss: 0.5887 - accuracy: 0.6857\n",
      "Epoch 23/50\n",
      "442/442 [==============================] - 1s 2ms/step - loss: 0.5825 - accuracy: 0.6892\n",
      "Epoch 24/50\n",
      "442/442 [==============================] - 1s 2ms/step - loss: 0.5805 - accuracy: 0.6922\n",
      "Epoch 25/50\n",
      "442/442 [==============================] - 1s 2ms/step - loss: 0.5786 - accuracy: 0.6941\n",
      "Epoch 26/50\n",
      "442/442 [==============================] - 1s 2ms/step - loss: 0.5698 - accuracy: 0.7046\n",
      "Epoch 27/50\n",
      "442/442 [==============================] - 1s 2ms/step - loss: 0.5661 - accuracy: 0.7032\n",
      "Epoch 28/50\n",
      "442/442 [==============================] - 1s 2ms/step - loss: 0.5673 - accuracy: 0.7025\n",
      "Epoch 29/50\n",
      "442/442 [==============================] - 1s 2ms/step - loss: 0.5609 - accuracy: 0.7086\n",
      "Epoch 30/50\n",
      "442/442 [==============================] - 1s 2ms/step - loss: 0.5617 - accuracy: 0.7069\n",
      "Epoch 31/50\n",
      "442/442 [==============================] - 1s 2ms/step - loss: 0.5580 - accuracy: 0.7175\n",
      "Epoch 32/50\n",
      "442/442 [==============================] - 1s 2ms/step - loss: 0.5583 - accuracy: 0.7114\n",
      "Epoch 33/50\n",
      "442/442 [==============================] - 1s 2ms/step - loss: 0.5472 - accuracy: 0.7174\n",
      "Epoch 34/50\n",
      "442/442 [==============================] - 1s 2ms/step - loss: 0.5426 - accuracy: 0.7207\n",
      "Epoch 35/50\n",
      "442/442 [==============================] - 1s 2ms/step - loss: 0.5435 - accuracy: 0.7238\n",
      "Epoch 36/50\n",
      "442/442 [==============================] - 1s 2ms/step - loss: 0.5441 - accuracy: 0.7212\n",
      "Epoch 37/50\n",
      "442/442 [==============================] - 1s 2ms/step - loss: 0.5394 - accuracy: 0.7215\n",
      "Epoch 38/50\n",
      "442/442 [==============================] - 1s 2ms/step - loss: 0.5305 - accuracy: 0.7330\n",
      "Epoch 39/50\n",
      "442/442 [==============================] - 1s 2ms/step - loss: 0.5344 - accuracy: 0.7288\n",
      "Epoch 40/50\n",
      "442/442 [==============================] - 1s 2ms/step - loss: 0.5256 - accuracy: 0.7360\n",
      "Epoch 41/50\n",
      "442/442 [==============================] - 1s 2ms/step - loss: 0.5287 - accuracy: 0.7334\n",
      "Epoch 42/50\n",
      "442/442 [==============================] - 1s 2ms/step - loss: 0.5261 - accuracy: 0.7357\n",
      "Epoch 43/50\n",
      "442/442 [==============================] - 1s 2ms/step - loss: 0.5251 - accuracy: 0.7420\n",
      "Epoch 44/50\n",
      "442/442 [==============================] - 1s 2ms/step - loss: 0.5225 - accuracy: 0.7391\n",
      "Epoch 45/50\n",
      "442/442 [==============================] - 1s 2ms/step - loss: 0.5185 - accuracy: 0.7422\n",
      "Epoch 46/50\n",
      "442/442 [==============================] - 1s 2ms/step - loss: 0.5157 - accuracy: 0.7459\n",
      "Epoch 47/50\n",
      "442/442 [==============================] - 1s 2ms/step - loss: 0.5115 - accuracy: 0.7503\n",
      "Epoch 48/50\n",
      "442/442 [==============================] - 1s 2ms/step - loss: 0.5029 - accuracy: 0.7548\n",
      "Epoch 49/50\n",
      "442/442 [==============================] - 1s 2ms/step - loss: 0.5033 - accuracy: 0.7537\n",
      "Epoch 50/50\n",
      "442/442 [==============================] - 1s 2ms/step - loss: 0.5049 - accuracy: 0.7483\n",
      "111/111 [==============================] - 0s 1ms/step\n",
      "[0.16817802 0.39266592 0.7105844  ... 0.22719827 0.34703958 0.24232905]\n"
     ]
    }
   ],
   "source": [
    "model = tf.keras.Sequential([\n",
    "    tf.keras.layers.Dense(64, input_dim=123, activation='relu', kernel_initializer=tf.keras.initializers.he_normal()),\n",
    "    tf.keras.layers.Dropout(rate=0.5),\n",
    "    tf.keras.layers.Dense(32, activation='relu', kernel_initializer=tf.keras.initializers.he_normal()),\n",
    "    tf.keras.layers.Dense(1, activation=\"sigmoid\")\n",
    "])\n",
    "\n",
    "model.compile(\n",
    "    loss=\"binary_crossentropy\",\n",
    "    optimizer=tf.keras.optimizers.Adam(learning_rate=0.001),\n",
    "    metrics=[\n",
    "        \"accuracy\"\n",
    "    ]\n",
    ")\n",
    "\n",
    "model.summary()\n",
    "model.fit(X_train, y_train, epochs=50)\n",
    "\n",
    "y_pred_ann = model.predict(X_test).ravel()\n",
    "fpr_ann, tpr_ann, _ann = metrics.roc_curve(y_test, y_pred_ann)\n",
    "auc_ann = round(metrics.roc_auc_score(y_test, y_pred_ann), 4)"
   ],
   "metadata": {
    "collapsed": false
   }
  },
  {
   "cell_type": "markdown",
   "source": [
    "Creando el modelo de Bosques Aleatorios"
   ],
   "metadata": {
    "collapsed": false
   }
  },
  {
   "cell_type": "code",
   "execution_count": 22,
   "outputs": [
    {
     "name": "stderr",
     "output_type": "stream",
     "text": [
      "C:\\Users\\Isaias Olmos\\.conda\\envs\\Dota2Recommender\\lib\\site-packages\\sklearn\\base.py:443: UserWarning: X has feature names, but RandomForestClassifier was fitted without feature names\n",
      "  warnings.warn(\n"
     ]
    },
    {
     "name": "stdout",
     "output_type": "stream",
     "text": [
      "[0.72247908 0.56247583 0.79981653 ... 0.17259608 0.35069661 0.18224002]\n",
      "Accuracy: RFC 0.7580736543909349\n"
     ]
    }
   ],
   "source": [
    "rfc = RandomForestClassifier(bootstrap=False, min_samples_split=12, n_estimators=1200,\n",
    "                             random_state=42)\n",
    "rfc.fit(X_train.values, y_train.values)\n",
    "\n",
    "y_pred_rf = rfc.predict(X_test.values)\n",
    "\n",
    "# Model Accuracy, how often is the classifier correct?\n",
    "print(\"Accuracy: RFC\", metrics.accuracy_score(y_test, y_pred_rf))\n",
    "fpr_rf, tpr_rf, _rf = metrics.roc_curve(y_test, y_pred_rf)\n",
    "auc_rf = round(metrics.roc_auc_score(y_test, y_pred_rf), 4)"
   ],
   "metadata": {
    "collapsed": false
   }
  },
  {
   "cell_type": "markdown",
   "source": [
    "Creando el LightGBM Classifier"
   ],
   "metadata": {
    "collapsed": false
   }
  },
  {
   "cell_type": "code",
   "execution_count": 20,
   "outputs": [
    {
     "name": "stdout",
     "output_type": "stream",
     "text": [
      "[1 1 1 ... 0 0 0]\n",
      "[0.86544006 0.58700494 0.93124633 ... 0.02428025 0.01913973 0.02162254]\n",
      "Accuracy: LightGBM 0.7558073654390934\n",
      "              precision    recall  f1-score   support\n",
      "\n",
      "           0       0.75      0.77      0.76      1801\n",
      "           1       0.76      0.74      0.75      1729\n",
      "\n",
      "    accuracy                           0.76      3530\n",
      "   macro avg       0.76      0.76      0.76      3530\n",
      "weighted avg       0.76      0.76      0.76      3530\n",
      "\n",
      "[[1393  408]\n",
      " [ 454 1275]]\n",
      "0.7554\n"
     ]
    }
   ],
   "source": [
    "lightgbm_cf = lightgbm.LGBMClassifier(max_depth=9, num_leaves=512, n_estimators=1800, learning_rate=0.2,\n",
    "                                      n_jobs=-1)\n",
    "lightgbm_cf.fit(X_train.values, y_train.values)\n",
    "\n",
    "y_pred_lgbm = lightgbm_cf.predict(X_test)\n",
    "\n",
    "print(\"Accuracy: LightGBM\", metrics.accuracy_score(y_test, y_pred_lgbm))\n",
    "print(metrics.classification_report(y_test, y_pred_lgbm))\n",
    "print(metrics.confusion_matrix(y_test, y_pred_lgbm))\n",
    "print(round(metrics.roc_auc_score(y_test, y_pred_lgbm), 4))\n",
    "fpr_lgbm, tpr_lgbm, _lgbm = metrics.roc_curve(y_test, y_pred_lgbm)\n",
    "auc_lgbm = round(metrics.roc_auc_score(y_test, y_pred_lgbm), 4)"
   ],
   "metadata": {
    "collapsed": false
   }
  },
  {
   "cell_type": "markdown",
   "source": [
    "Graficando las puntuaciones de los modelos"
   ],
   "metadata": {
    "collapsed": false
   }
  },
  {
   "cell_type": "code",
   "execution_count": 7,
   "outputs": [
    {
     "data": {
      "text/plain": "<Figure size 640x480 with 1 Axes>",
      "image/png": "[encoded data removed]"
     },
     "metadata": {},
     "output_type": "display_data"
    }
   ],
   "source": [
    "plt.figure(1)\n",
    "plt.plot([0, 1], [0, 1], 'k--')\n",
    "plt.plot(fpr_ann, tpr_ann, label='ANN (area = {:.3f})'.format(auc_ann))\n",
    "plt.plot(fpr_rf, tpr_rf, label='RF (area = {:.3f})'.format(auc_rf))\n",
    "plt.plot(fpr_lgbm, tpr_lgbm, label='LGBM (area = {:.3f})'.format(auc_lgbm))\n",
    "plt.xlabel('False positive rate')\n",
    "plt.ylabel('True positive rate')\n",
    "plt.title('ROC curve (zoomed in at top left)')\n",
    "plt.legend(loc='best')\n",
    "plt.show()"
   ],
   "metadata": {
    "collapsed": false
   }
  },
  {
   "cell_type": "markdown",
   "source": [
    "Guardar los modelos en un archivo"
   ],
   "metadata": {
    "collapsed": false
   }
  },
  {
   "cell_type": "code",
   "execution_count": null,
   "outputs": [],
   "source": [
    "# save\n",
    "joblib.dump(rfc, \"rfc.joblib\")\n",
    "model.save(\"ann.h5\")"
   ],
   "metadata": {
    "collapsed": false
   }
  },
  {
   "cell_type": "code",
   "execution_count": 52,
   "outputs": [
    {
     "data": {
      "text/plain": "['lgbm_cf.pkl']"
     },
     "execution_count": 52,
     "metadata": {},
     "output_type": "execute_result"
    }
   ],
   "source": [
    "# lightgbm_cf.booster_.save_model('lgbm_cf.txt')\n",
    "joblib.dump(lightgbm_cf, 'lgbm_cf.pkl')"
   ],
   "metadata": {
    "collapsed": false
   }
  }
 ],
 "metadata": {
  "kernelspec": {
   "display_name": "Python 3",
   "language": "python",
   "name": "python3"
  },
  "language_info": {
   "codemirror_mode": {
    "name": "ipython",
    "version": 2
   },
   "file_extension": ".py",
   "mimetype": "text/x-python",
   "name": "python",
   "nbconvert_exporter": "python",
   "pygments_lexer": "ipython2",
   "version": "2.7.6"
  }
 },
 "nbformat": 4,
 "nbformat_minor": 0
}
